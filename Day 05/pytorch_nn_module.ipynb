{
  "cells": [
    {
      "cell_type": "code",
      "execution_count": 7,
      "metadata": {
        "id": "oJvxf-ftpdEy"
      },
      "outputs": [],
      "source": [
        "# create model class\n",
        "import torch\n",
        "import torch.nn as nn\n",
        "\n",
        "class Model(nn.Module):\n",
        "\n",
        "  def __init__(self, num_features):\n",
        "\n",
        "    super().__init__()\n",
        "    self.network = nn.Sequential(\n",
        "        nn.Linear(num_features, 3),\n",
        "        nn.ReLU(),\n",
        "        nn.Linear(3, 1),\n",
        "        nn.Sigmoid()\n",
        "    )\n",
        "\n",
        "  def forward(self, features):\n",
        "\n",
        "    out = self.network(features)\n",
        "\n",
        "    return out"
      ]
    },
    {
      "cell_type": "code",
      "execution_count": 8,
      "metadata": {},
      "outputs": [
        {
          "data": {
            "text/plain": [
              "tensor([[3.5745e-01, 3.1605e-01, 8.0001e-01, 9.6238e-01, 1.2691e-01],\n",
              "        [7.0616e-01, 7.1193e-01, 7.7854e-01, 3.4297e-01, 3.2226e-01],\n",
              "        [1.9728e-01, 9.3567e-01, 1.8799e-01, 5.4654e-01, 1.5803e-01],\n",
              "        [1.4031e-01, 7.0387e-01, 6.5705e-01, 3.8770e-01, 3.8681e-02],\n",
              "        [7.7621e-01, 5.1837e-01, 1.8663e-01, 3.3169e-01, 7.3218e-01],\n",
              "        [6.2233e-01, 5.2211e-01, 9.1824e-01, 1.4192e-01, 4.9177e-01],\n",
              "        [1.7819e-01, 6.4640e-01, 6.5040e-01, 6.1420e-03, 1.4191e-01],\n",
              "        [8.0360e-01, 6.4681e-01, 7.8934e-04, 2.4131e-01, 5.5956e-01],\n",
              "        [9.1457e-01, 7.5857e-01, 6.6189e-02, 1.2950e-01, 9.9891e-01],\n",
              "        [9.6636e-01, 5.6602e-01, 5.6657e-01, 2.9510e-01, 7.4607e-01]])"
            ]
          },
          "execution_count": 8,
          "metadata": {},
          "output_type": "execute_result"
        }
      ],
      "source": [
        "torch.rand(10,5)"
      ]
    },
    {
      "cell_type": "code",
      "execution_count": 9,
      "metadata": {},
      "outputs": [],
      "source": [
        "features = torch.rand(10,5)"
      ]
    },
    {
      "cell_type": "code",
      "execution_count": 10,
      "metadata": {},
      "outputs": [
        {
          "data": {
            "text/plain": [
              "5"
            ]
          },
          "execution_count": 10,
          "metadata": {},
          "output_type": "execute_result"
        }
      ],
      "source": [
        "features.shape[1]"
      ]
    },
    {
      "cell_type": "code",
      "execution_count": 11,
      "metadata": {
        "colab": {
          "base_uri": "https://localhost:8080/"
        },
        "id": "I_Tbf5p6sQQI",
        "outputId": "5f897187-6609-4868-a294-ef15c32d5eaa"
      },
      "outputs": [
        {
          "data": {
            "text/plain": [
              "tensor([[0.5454],\n",
              "        [0.5379],\n",
              "        [0.5257],\n",
              "        [0.5491],\n",
              "        [0.5337],\n",
              "        [0.5556],\n",
              "        [0.5399],\n",
              "        [0.5428],\n",
              "        [0.5143],\n",
              "        [0.5401]], grad_fn=<SigmoidBackward0>)"
            ]
          },
          "execution_count": 11,
          "metadata": {},
          "output_type": "execute_result"
        }
      ],
      "source": [
        "# create dataset\n",
        "features = torch.rand(10,5)\n",
        "\n",
        "# create model\n",
        "model = Model(features.shape[1])\n",
        "\n",
        "# call model for forward pass\n",
        "# model.forward(features)\n",
        "model(features)"
      ]
    },
    {
      "cell_type": "code",
      "execution_count": 14,
      "metadata": {
        "colab": {
          "base_uri": "https://localhost:8080/"
        },
        "id": "Kf6yPbtBPvCD",
        "outputId": "988cf3c5-b9a4-45ba-bdf5-ddc01fcd9279"
      },
      "outputs": [
        {
          "data": {
            "text/plain": [
              "Parameter containing:\n",
              "tensor([[-0.0883,  0.0563,  0.0141,  0.2816, -0.4435],\n",
              "        [ 0.3008, -0.2978, -0.0758,  0.1809, -0.0427],\n",
              "        [ 0.2058, -0.4099, -0.4347, -0.3015, -0.3678]], requires_grad=True)"
            ]
          },
          "execution_count": 14,
          "metadata": {},
          "output_type": "execute_result"
        }
      ],
      "source": [
        "# show model weights\n",
        "model.network[0].weight"
      ]
    },
    {
      "cell_type": "code",
      "execution_count": 16,
      "metadata": {},
      "outputs": [
        {
          "data": {
            "text/plain": [
              "Parameter containing:\n",
              "tensor([[-0.0883,  0.0563,  0.0141,  0.2816, -0.4435],\n",
              "        [ 0.3008, -0.2978, -0.0758,  0.1809, -0.0427],\n",
              "        [ 0.2058, -0.4099, -0.4347, -0.3015, -0.3678]], requires_grad=True)"
            ]
          },
          "execution_count": 16,
          "metadata": {},
          "output_type": "execute_result"
        }
      ],
      "source": [
        "# show model weights\n",
        "model.network[0].weight"
      ]
    },
    {
      "cell_type": "code",
      "execution_count": 13,
      "metadata": {
        "colab": {
          "base_uri": "https://localhost:8080/"
        },
        "id": "ah9VjT_dxiJD",
        "outputId": "b63089c2-db30-4cfb-e039-830c018cdee2"
      },
      "outputs": [
        {
          "data": {
            "text/plain": [
              "==========================================================================================\n",
              "Layer (type:depth-idx)                   Output Shape              Param #\n",
              "==========================================================================================\n",
              "Model                                    [10, 1]                   --\n",
              "├─Sequential: 1-1                        [10, 1]                   --\n",
              "│    └─Linear: 2-1                       [10, 3]                   18\n",
              "│    └─ReLU: 2-2                         [10, 3]                   --\n",
              "│    └─Linear: 2-3                       [10, 1]                   4\n",
              "│    └─Sigmoid: 2-4                      [10, 1]                   --\n",
              "==========================================================================================\n",
              "Total params: 22\n",
              "Trainable params: 22\n",
              "Non-trainable params: 0\n",
              "Total mult-adds (Units.MEGABYTES): 0.00\n",
              "==========================================================================================\n",
              "Input size (MB): 0.00\n",
              "Forward/backward pass size (MB): 0.00\n",
              "Params size (MB): 0.00\n",
              "Estimated Total Size (MB): 0.00\n",
              "=========================================================================================="
            ]
          },
          "execution_count": 13,
          "metadata": {},
          "output_type": "execute_result"
        }
      ],
      "source": [
        "from torchinfo import summary\n",
        "\n",
        "summary(model, input_size=(10, 5))"
      ]
    },
    {
      "cell_type": "code",
      "execution_count": null,
      "metadata": {
        "id": "7AbUHThPxpIc"
      },
      "outputs": [],
      "source": []
    }
  ],
  "metadata": {
    "colab": {
      "provenance": []
    },
    "kernelspec": {
      "display_name": "pytorch",
      "language": "python",
      "name": "python3"
    },
    "language_info": {
      "codemirror_mode": {
        "name": "ipython",
        "version": 3
      },
      "file_extension": ".py",
      "mimetype": "text/x-python",
      "name": "python",
      "nbconvert_exporter": "python",
      "pygments_lexer": "ipython3",
      "version": "3.13.3"
    }
  },
  "nbformat": 4,
  "nbformat_minor": 0
}
